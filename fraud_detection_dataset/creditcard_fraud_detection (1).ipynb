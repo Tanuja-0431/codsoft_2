{
 "cells": [
  {
   "cell_type": "markdown",
   "id": "867c19fd-479b-418d-af59-aa43e433ec2f",
   "metadata": {},
   "source": [
    "# credit_card_fraud_detection"
   ]
  },
  {
   "cell_type": "code",
   "execution_count": 1,
   "id": "cf2bc514-f86a-4b2e-8d54-692b6347f4d6",
   "metadata": {},
   "outputs": [
    {
     "name": "stdout",
     "output_type": "stream",
     "text": [
      "Requirement already satisfied: pandas in d:\\anaconda3\\lib\\site-packages (2.2.2)\n",
      "Requirement already satisfied: numpy in d:\\anaconda3\\lib\\site-packages (1.26.4)\n",
      "Requirement already satisfied: scikit-learn in d:\\anaconda3\\lib\\site-packages (1.4.2)\n",
      "Requirement already satisfied: matplotlib in d:\\anaconda3\\lib\\site-packages (3.8.4)\n",
      "Requirement already satisfied: seaborn in d:\\anaconda3\\lib\\site-packages (0.13.2)\n",
      "Requirement already satisfied: python-dateutil>=2.8.2 in d:\\anaconda3\\lib\\site-packages (from pandas) (2.9.0.post0)\n",
      "Requirement already satisfied: pytz>=2020.1 in d:\\anaconda3\\lib\\site-packages (from pandas) (2024.1)\n",
      "Requirement already satisfied: tzdata>=2022.7 in d:\\anaconda3\\lib\\site-packages (from pandas) (2023.3)\n",
      "Requirement already satisfied: scipy>=1.6.0 in d:\\anaconda3\\lib\\site-packages (from scikit-learn) (1.13.1)\n",
      "Requirement already satisfied: joblib>=1.2.0 in d:\\anaconda3\\lib\\site-packages (from scikit-learn) (1.4.2)\n",
      "Requirement already satisfied: threadpoolctl>=2.0.0 in d:\\anaconda3\\lib\\site-packages (from scikit-learn) (2.2.0)\n",
      "Requirement already satisfied: contourpy>=1.0.1 in d:\\anaconda3\\lib\\site-packages (from matplotlib) (1.2.0)\n",
      "Requirement already satisfied: cycler>=0.10 in d:\\anaconda3\\lib\\site-packages (from matplotlib) (0.11.0)\n",
      "Requirement already satisfied: fonttools>=4.22.0 in d:\\anaconda3\\lib\\site-packages (from matplotlib) (4.51.0)\n",
      "Requirement already satisfied: kiwisolver>=1.3.1 in d:\\anaconda3\\lib\\site-packages (from matplotlib) (1.4.4)\n",
      "Requirement already satisfied: packaging>=20.0 in d:\\anaconda3\\lib\\site-packages (from matplotlib) (23.2)\n",
      "Requirement already satisfied: pillow>=8 in d:\\anaconda3\\lib\\site-packages (from matplotlib) (10.3.0)\n",
      "Requirement already satisfied: pyparsing>=2.3.1 in d:\\anaconda3\\lib\\site-packages (from matplotlib) (3.0.9)\n",
      "Requirement already satisfied: six>=1.5 in d:\\anaconda3\\lib\\site-packages (from python-dateutil>=2.8.2->pandas) (1.16.0)\n",
      "Note: you may need to restart the kernel to use updated packages.\n"
     ]
    }
   ],
   "source": [
    "pip install pandas numpy scikit-learn matplotlib seaborn\n"
   ]
  },
  {
   "cell_type": "code",
   "execution_count": 1,
   "id": "e86b6cd1-a4ea-419d-8255-5f621fdaaa8d",
   "metadata": {},
   "outputs": [],
   "source": [
    "import pandas as pd\n",
    "import numpy as np\n",
    "from sklearn.model_selection import train_test_split\n",
    "from sklearn.preprocessing import LabelEncoder, StandardScaler\n",
    "from sklearn.linear_model import LogisticRegression\n",
    "from sklearn.tree import DecisionTreeClassifier\n",
    "from sklearn.ensemble import RandomForestClassifier\n",
    "from sklearn.metrics import classification_report, accuracy_score, confusion_matrix"
   ]
  },
  {
   "cell_type": "code",
   "execution_count": 2,
   "id": "8412a174-62e3-43c6-9cbf-e1e869fa0469",
   "metadata": {},
   "outputs": [
    {
     "data": {
      "text/plain": [
       "(Unnamed: 0               0\n",
       " trans_date_trans_time    0\n",
       " cc_num                   0\n",
       " merchant                 0\n",
       " category                 0\n",
       " amt                      0\n",
       " first                    0\n",
       " last                     0\n",
       " gender                   0\n",
       " street                   0\n",
       " city                     0\n",
       " state                    0\n",
       " zip                      0\n",
       " lat                      0\n",
       " long                     0\n",
       " city_pop                 0\n",
       " job                      0\n",
       " dob                      0\n",
       " trans_num                0\n",
       " unix_time                0\n",
       " merch_lat                0\n",
       " merch_long               0\n",
       " is_fraud                 0\n",
       " dtype: int64,\n",
       " Unnamed: 0               0\n",
       " trans_date_trans_time    0\n",
       " cc_num                   0\n",
       " merchant                 0\n",
       " category                 0\n",
       " amt                      0\n",
       " first                    0\n",
       " last                     0\n",
       " gender                   0\n",
       " street                   0\n",
       " city                     0\n",
       " state                    0\n",
       " zip                      0\n",
       " lat                      0\n",
       " long                     0\n",
       " city_pop                 0\n",
       " job                      0\n",
       " dob                      0\n",
       " trans_num                0\n",
       " unix_time                0\n",
       " merch_lat                0\n",
       " merch_long               0\n",
       " is_fraud                 0\n",
       " dtype: int64)"
      ]
     },
     "execution_count": 2,
     "metadata": {},
     "output_type": "execute_result"
    }
   ],
   "source": [
    "import pandas as pd\n",
    "\n",
    "# Load the train and test datasets from Excel files\n",
    "train_df = pd.read_csv('D:/fraud_detection_dataset/fraudTrain.csv')\n",
    "test_df = pd.read_csv('D:/fraud_detection_dataset/fraudTest.csv')\n",
    "\n",
    "# Check the first few rows of the train and test data\n",
    "train_df.head(), test_df.head()\n",
    "\n",
    "# Check for missing values in both datasets\n",
    "train_df.isnull().sum(), test_df.isnull().sum()\n",
    "\n"
   ]
  },
  {
   "cell_type": "code",
   "execution_count": 3,
   "id": "80449b90-7303-4d6d-82e4-8db87871f010",
   "metadata": {},
   "outputs": [],
   "source": [
    "# Load the dataset\n",
    "df = pd.read_csv('D:/fraud_detection_dataset/fraudTrain.csv')\n",
    "\n",
    "# Step 1: Basic Preprocessing\n",
    "# Drop unnecessary columns\n",
    "df = df.drop(columns=['Unnamed: 0', 'trans_date_trans_time', 'first', 'last', 'street', 'city', 'job', 'dob', 'trans_num'])\n",
    "\n",
    "# Encode categorical variables using LabelEncoder\n",
    "le = LabelEncoder()\n",
    "df['merchant'] = le.fit_transform(df['merchant'])\n",
    "df['category'] = le.fit_transform(df['category'])\n",
    "df['gender'] = le.fit_transform(df['gender'])\n",
    "df['state'] = le.fit_transform(df['state'])\n",
    "\n",
    "# Drop original lat/long columns to avoid redundancy\n",
    "df = df.drop(columns=['lat', 'long', 'merch_lat', 'merch_long'])\n",
    "\n",
    "# Step 3: Handle Imbalanced Data with SMOTE\n",
    "X = df.drop(columns=['is_fraud'])\n",
    "y = df['is_fraud']\n",
    "\n",
    "# Train-Test Split\n",
    "X_train, X_test, y_train, y_test = train_test_split(X, y, test_size=0.2, random_state=42, stratify=y)\n"
   ]
  },
  {
   "cell_type": "code",
   "execution_count": 4,
   "id": "3c2b282a-ea3b-4c06-ac4a-295f572a7251",
   "metadata": {},
   "outputs": [],
   "source": [
    "# Step 3: Handle Imbalanced Data with SMOTE\n",
    "from imblearn.over_sampling import SMOTE\n",
    "X = df.drop(columns=['is_fraud'])\n",
    "y = df['is_fraud']\n",
    "\n",
    "# Train-Test Split\n",
    "X_train, X_test, y_train, y_test = train_test_split(X, y, test_size=0.2, random_state=42, stratify=y)\n",
    "\n",
    "# Apply SMOTE\n",
    "smote = SMOTE(random_state=42)\n",
    "X_train_smote, y_train_smote = smote.fit_resample(X_train, y_train)\n"
   ]
  },
  {
   "cell_type": "code",
   "execution_count": 5,
   "id": "2f382f11-98b0-44c5-8efd-84c6bb4ef7ad",
   "metadata": {},
   "outputs": [],
   "source": [
    "# Step 4: Scale the Features\n",
    "scaler = StandardScaler()\n",
    "X_train_smote = scaler.fit_transform(X_train_smote)\n",
    "X_test = scaler.transform(X_test)\n",
    "\n",
    "# Step 5: Train and Evaluate Models\n",
    "# Logistic Regression\n",
    "lr = LogisticRegression(random_state=42)\n",
    "lr.fit(X_train_smote, y_train_smote)\n",
    "y_pred_lr = lr.predict(X_test)"
   ]
  },
  {
   "cell_type": "code",
   "execution_count": 6,
   "id": "52d8e7be-9015-48f2-8673-6146a6b17375",
   "metadata": {},
   "outputs": [
    {
     "name": "stdout",
     "output_type": "stream",
     "text": [
      "[0 0 0 ... 0 0 0]\n"
     ]
    }
   ],
   "source": [
    "# Decision Tree\n",
    "dt = DecisionTreeClassifier(random_state=42)\n",
    "dt.fit(X_train_smote, y_train_smote)\n",
    "y_pred_dt = dt.predict(X_test)\n",
    "print(y_pred_dt)"
   ]
  },
  {
   "cell_type": "code",
   "execution_count": 26,
   "id": "82c8d223-a7a0-433e-bff4-1346cf7b501e",
   "metadata": {},
   "outputs": [
    {
     "name": "stdout",
     "output_type": "stream",
     "text": [
      "Feature Importance for Random Forest:\n"
     ]
    },
    {
     "data": {
      "image/png": "[encoded data removed]",
      "text/plain": [
       "<Figure size 1000x600 with 1 Axes>"
      ]
     },
     "metadata": {},
     "output_type": "display_data"
    }
   ],
   "source": [
    "# 3. Feature Importance\n",
    "def plot_feature_importance(model, feature_names):\n",
    "    importance = model.feature_importances_\n",
    "    sorted_idx = np.argsort(importance)[::-1]\n",
    "    plt.figure(figsize=(10, 6))\n",
    "    plt.bar(range(len(importance)), importance[sorted_idx], align='center')\n",
    "    plt.xticks(range(len(importance)), feature_names[sorted_idx], rotation=90)\n",
    "    plt.title('Feature Importance')\n",
    "    plt.tight_layout()\n",
    "    plt.show()\n",
    "\n",
    "print(\"Feature Importance for Random Forest:\")\n",
    "plot_feature_importance(rf, X.columns)\n"
   ]
  },
  {
   "cell_type": "code",
   "execution_count": 18,
   "id": "55a35322-6b88-49ea-b269-021a6077876e",
   "metadata": {},
   "outputs": [
    {
     "name": "stdout",
     "output_type": "stream",
     "text": [
      "Logistic Regression Results:\n",
      "Accuracy: 0.9487535427150211\n",
      "[[244900  12934]\n",
      " [   356   1145]]\n",
      "              precision    recall  f1-score   support\n",
      "\n",
      "           0       1.00      0.95      0.97    257834\n",
      "           1       0.08      0.76      0.15      1501\n",
      "\n",
      "    accuracy                           0.95    259335\n",
      "   macro avg       0.54      0.86      0.56    259335\n",
      "weighted avg       0.99      0.95      0.97    259335\n",
      "\n",
      "\n",
      "Decision Tree Results:\n",
      "Accuracy: 0.976825341739449\n",
      "[[252171   5663]\n",
      " [   347   1154]]\n",
      "              precision    recall  f1-score   support\n",
      "\n",
      "           0       1.00      0.98      0.99    257834\n",
      "           1       0.17      0.77      0.28      1501\n",
      "\n",
      "    accuracy                           0.98    259335\n",
      "   macro avg       0.58      0.87      0.63    259335\n",
      "weighted avg       0.99      0.98      0.98    259335\n",
      "\n"
     ]
    }
   ],
   "source": [
    "# Step 6: Evaluate Models\n",
    "\n",
    "print(\"Logistic Regression Results:\")\n",
    "print(\"Accuracy:\", accuracy_score(y_test, y_pred_lr))\n",
    "\n",
    "print(confusion_matrix(y_test, y_pred_lr))\n",
    "print(classification_report(y_test, y_pred_lr))\n",
    "\n",
    "print(\"\\nDecision Tree Results:\")\n",
    "print(\"Accuracy:\", accuracy_score(y_test, y_pred_dt))\n",
    "\n",
    "print(confusion_matrix(y_test, y_pred_dt))\n",
    "print(classification_report(y_test, y_pred_dt))\n",
    "\n"
   ]
  },
  {
   "cell_type": "code",
   "execution_count": 28,
   "id": "dad6ca2f-ef93-4c43-b274-820a53a3ae27",
   "metadata": {},
   "outputs": [
    {
     "name": "stdout",
     "output_type": "stream",
     "text": [
      "Confusion Matrix for Random Forest:\n"
     ]
    },
    {
     "data": {
      "image/png": "[encoded data removed]",
      "text/plain": [
       "<Figure size 640x480 with 2 Axes>"
      ]
     },
     "metadata": {},
     "output_type": "display_data"
    }
   ],
   "source": [
    "# Import visualization libraries\n",
    "import matplotlib.pyplot as plt\n",
    "import seaborn as sns\n",
    "from sklearn.metrics import ConfusionMatrixDisplay, roc_curve, auc\n",
    "\n",
    "\n",
    "# 1. Confusion Matrix\n",
    "def plot_confusion_matrix(y_test, y_pred):\n",
    "    cm = confusion_matrix(y_test, y_pred)\n",
    "    sns.heatmap(cm, annot=True, fmt='d', cmap='Blues', xticklabels=['Legit', 'Fraud'], yticklabels=['Legit', 'Fraud'])\n",
    "    plt.title('Confusion Matrix')\n",
    "    plt.xlabel('Predicted')\n",
    "    plt.ylabel('Actual')\n",
    "    plt.show()\n",
    "\n",
    "print(\"Confusion Matrix for Random Forest:\")\n",
    "plot_confusion_matrix(y_test, y_pred_rf)\n",
    "\n",
    "\n"
   ]
  },
  {
   "cell_type": "code",
   "execution_count": 22,
   "id": "b4572380-d317-4bab-a275-f905aa5b9183",
   "metadata": {},
   "outputs": [],
   "source": []
  },
  {
   "cell_type": "code",
   "execution_count": null,
   "id": "0753beeb-3f69-47d4-9973-27ac67033991",
   "metadata": {},
   "outputs": [],
   "source": []
  }
 ],
 "metadata": {
  "kernelspec": {
   "display_name": "Python 3 (ipykernel)",
   "language": "python",
   "name": "python3"
  },
  "language_info": {
   "codemirror_mode": {
    "name": "ipython",
    "version": 3
   },
   "file_extension": ".py",
   "mimetype": "text/x-python",
   "name": "python",
   "nbconvert_exporter": "python",
   "pygments_lexer": "ipython3",
   "version": "3.12.4"
  }
 },
 "nbformat": 4,
 "nbformat_minor": 5
}
